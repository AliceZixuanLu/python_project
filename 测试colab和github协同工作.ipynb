{
  "nbformat": 4,
  "nbformat_minor": 0,
  "metadata": {
    "colab": {
      "provenance": [],
      "gpuType": "T4",
      "include_colab_link": true
    },
    "kernelspec": {
      "name": "python3",
      "display_name": "Python 3"
    },
    "language_info": {
      "name": "python"
    },
    "accelerator": "GPU"
  },
  "cells": [
    {
      "cell_type": "markdown",
      "metadata": {
        "id": "view-in-github",
        "colab_type": "text"
      },
      "source": [
        "<a href=\"https://colab.research.google.com/github/AliceZixuanLu/python_project/blob/main/%E6%B5%8B%E8%AF%95colab%E5%92%8Cgithub%E5%8D%8F%E5%90%8C%E5%B7%A5%E4%BD%9C.ipynb\" target=\"_parent\"><img src=\"https://colab.research.google.com/assets/colab-badge.svg\" alt=\"Open In Colab\"/></a>"
      ]
    },
    {
      "cell_type": "markdown",
      "source": [
        "## 关于在colab中使用github工作的技巧\n",
        "\n",
        "小结： 在colab中打开github上的notebook，或者drive里面的notebook，干完活了在保存到github上。Kaggle和github联动的方法类似，需要使用 import notebook功能，再导入，工作结束后，在 save version那里提交到github上（需要提前 link to github）。 \n",
        "\n",
        "正宗官方文档: https://colab.research.google.com/github/googlecolab/colabtools/blob/master/notebooks/colab-github-demo.ipynb#scrollTo=K-NVg7RjyeTk\n",
        "\n",
        "管理 colab和ipynb的浏览器插件，可以让 colab打开github上的ipynb，挺好用：https://chrome.google.com/webstore/detail/open-in-colab/iogfkhleblhcpcekbiedikdehleodpjo/related\n",
        "\n",
        "有用的小插件， 防止 colab失联：https://chrome.google.com/webstore/detail/colab-alive/eookkckfbbgnhdgcbfbicoahejkdoele/related\n",
        "\n",
        "其他资料：\n",
        "https://zhuanlan.zhihu.com/p/396271940\n"
      ],
      "metadata": {
        "id": "m9jniUtpsqtg"
      }
    },
    {
      "cell_type": "markdown",
      "source": [
        "## 标准的挂载路径\n",
        "在Google Colab上面才需要运行。"
      ],
      "metadata": {
        "id": "CAHxKDmJkEqS"
      }
    },
    {
      "cell_type": "code",
      "execution_count": 1,
      "metadata": {
        "colab": {
          "base_uri": "https://localhost:8080/"
        },
        "id": "zLhXaFVZj4Ru",
        "outputId": "6bc69988-31a5-44bb-f89b-d1bf41e7baf9"
      },
      "outputs": [
        {
          "output_type": "stream",
          "name": "stdout",
          "text": [
            "Mounted at /content/drive\n"
          ]
        }
      ],
      "source": [
        "from google.colab import drive\n",
        "drive.mount('/content/drive')"
      ]
    },
    {
      "cell_type": "markdown",
      "source": [
        "## 按照自己的习惯，做个短路径和其他软件包的安装路径\n",
        "在Google Colab上面才需要运行。只要执行一次，第二次执行就会因为路径已经存在而报错，不过可以忽视掉。\n",
        "为项目创建了两个工作目录：\n",
        "\n",
        "1) notebooks 存放notebook, ipynb及相关文件\n",
        "\n",
        "2) packages 存放pip持久化安装的包"
      ],
      "metadata": {
        "id": "DssKVYbtmvyr"
      }
    },
    {
      "cell_type": "code",
      "source": [
        "# 在 gooogle colab 上面才需要运行\n",
        "import os, sys \n",
        "# 挂载google drive\n",
        "from google.colab import drive \n",
        "drive.mount('/content/gdrive') \n",
        " \n",
        "nb_path = '/content/notebooks'  # 因为绝对路径太长，不方便使用，所以这里做个了个快捷链接\n",
        "os.symlink('/content/gdrive/My Drive/Colab Notebooks', nb_path)\n",
        "sys.path.insert(0, nb_path)  # or append(nb_path)\n",
        "\n",
        "pkgs_path = '/content/packages'  # 这里做个第三方软件包安装的持久化路径\n",
        "os.symlink('/content/gdrive/My Drive/Colab Notebooks/packages', pkgs_path)\n",
        "sys.path.append(pkgs_path)  # or append(nb_path)\n"
      ],
      "metadata": {
        "colab": {
          "base_uri": "https://localhost:8080/"
        },
        "id": "M3qCMdBlkzyf",
        "outputId": "5a674dcd-d10c-4338-fbda-3cb995c1065a"
      },
      "execution_count": 1,
      "outputs": [
        {
          "output_type": "stream",
          "name": "stdout",
          "text": [
            "Mounted at /content/gdrive\n"
          ]
        }
      ]
    },
    {
      "cell_type": "markdown",
      "source": [
        "## 检查一下新创建的短路径, Python 环境， pip"
      ],
      "metadata": {
        "id": "xst6_8l7lwNN"
      }
    },
    {
      "cell_type": "code",
      "source": [
        "# 当前路径是在 /content 下面\n",
        "!ls ./notebooks "
      ],
      "metadata": {
        "colab": {
          "base_uri": "https://localhost:8080/"
        },
        "id": "6I1gogJek2M7",
        "outputId": "eedd66d5-a48b-4969-ceb2-c9f5b4a9996f"
      },
      "execution_count": 5,
      "outputs": [
        {
          "output_type": "stream",
          "name": "stdout",
          "text": [
            "'final assignment of tools for data science.ipynb'\n"
          ]
        }
      ]
    },
    {
      "cell_type": "code",
      "source": [
        "# 开始安装自己的软件包是，先检查一下准备存放的路径是否正确\n",
        "# 这里是保存到pkgs_path\n",
        "print(pkgs_path)"
      ],
      "metadata": {
        "colab": {
          "base_uri": "https://localhost:8080/"
        },
        "id": "KuzJSMdxqE5z",
        "outputId": "c25842a7-05a6-436c-b2a8-1484f6c70cef"
      },
      "execution_count": 6,
      "outputs": [
        {
          "output_type": "stream",
          "name": "stdout",
          "text": [
            "/content/packages\n"
          ]
        }
      ]
    },
    {
      "cell_type": "code",
      "source": [
        "import sys\n",
        "print(sys.version)"
      ],
      "metadata": {
        "colab": {
          "base_uri": "https://localhost:8080/"
        },
        "id": "WOFnFQboqK3y",
        "outputId": "6f897eca-420b-4ad5-eb21-8c47ac4a2dd7"
      },
      "execution_count": 7,
      "outputs": [
        {
          "output_type": "stream",
          "name": "stdout",
          "text": [
            "3.10.11 (main, Apr  5 2023, 14:15:10) [GCC 9.4.0]\n"
          ]
        }
      ]
    },
    {
      "cell_type": "code",
      "source": [
        "# 检查已经安装库包的情况， 不过可以不看，直接安装需要进行安装\n",
        "# !pip list "
      ],
      "metadata": {
        "id": "hI9WzBPqqSGw"
      },
      "execution_count": null,
      "outputs": []
    },
    {
      "cell_type": "code",
      "source": [
        "# 检查当前的路径\n",
        "!pwd"
      ],
      "metadata": {
        "colab": {
          "base_uri": "https://localhost:8080/"
        },
        "id": "MdyJFmHhrMJe",
        "outputId": "6f4757fa-0a8e-4c51-ed65-132eb5d20d79"
      },
      "execution_count": 8,
      "outputs": [
        {
          "output_type": "stream",
          "name": "stdout",
          "text": [
            "/content\n"
          ]
        }
      ]
    },
    {
      "cell_type": "code",
      "source": [
        "!ls /content/packages\n"
      ],
      "metadata": {
        "id": "imZF3y6Jge78",
        "outputId": "b4065f6f-4a32-451d-cd98-2a3b1083e2a8",
        "colab": {
          "base_uri": "https://localhost:8080/"
        }
      },
      "execution_count": 4,
      "outputs": [
        {
          "output_type": "stream",
          "name": "stdout",
          "text": [
            "jinja2\t\t\t     pyecharts\n",
            "Jinja2-3.1.2.dist-info\t     pyecharts-2.0.3.dist-info\n",
            "markupsafe\t\t     simplejson\n",
            "MarkupSafe-2.1.3.dist-info   simplejson-3.19.1.dist-info\n",
            "prettytable\t\t     wcwidth\n",
            "prettytable-3.7.0.dist-info  wcwidth-0.2.6.dist-info\n"
          ]
        }
      ]
    },
    {
      "cell_type": "code",
      "source": [
        "# 安装单独的软件库\n",
        "# !pip install --target=$pkgs_path pyecharts"
      ],
      "metadata": {
        "id": "Zq8wia4mgBu5",
        "outputId": "9aee93e6-f014-4246-fa6c-877e89365fba",
        "colab": {
          "base_uri": "https://localhost:8080/",
          "height": 491
        }
      },
      "execution_count": 3,
      "outputs": [
        {
          "output_type": "stream",
          "name": "stdout",
          "text": [
            "Looking in indexes: https://pypi.org/simple, https://us-python.pkg.dev/colab-wheels/public/simple/\n",
            "Collecting pyecharts\n",
            "  Downloading pyecharts-2.0.3-py3-none-any.whl (147 kB)\n",
            "\u001b[2K     \u001b[90m━━━━━━━━━━━━━━━━━━━━━━━━━━━━━━━━━━━━━━\u001b[0m \u001b[32m147.1/147.1 kB\u001b[0m \u001b[31m10.3 MB/s\u001b[0m eta \u001b[36m0:00:00\u001b[0m\n",
            "\u001b[?25hCollecting jinja2 (from pyecharts)\n",
            "  Downloading Jinja2-3.1.2-py3-none-any.whl (133 kB)\n",
            "\u001b[2K     \u001b[90m━━━━━━━━━━━━━━━━━━━━━━━━━━━━━━━━━━━━━━\u001b[0m \u001b[32m133.1/133.1 kB\u001b[0m \u001b[31m18.8 MB/s\u001b[0m eta \u001b[36m0:00:00\u001b[0m\n",
            "\u001b[?25hCollecting prettytable (from pyecharts)\n",
            "  Downloading prettytable-3.7.0-py3-none-any.whl (27 kB)\n",
            "Collecting simplejson (from pyecharts)\n",
            "  Downloading simplejson-3.19.1-cp310-cp310-manylinux_2_5_x86_64.manylinux1_x86_64.manylinux_2_17_x86_64.manylinux2014_x86_64.whl (137 kB)\n",
            "\u001b[2K     \u001b[90m━━━━━━━━━━━━━━━━━━━━━━━━━━━━━━━━━━━━━━\u001b[0m \u001b[32m137.9/137.9 kB\u001b[0m \u001b[31m19.9 MB/s\u001b[0m eta \u001b[36m0:00:00\u001b[0m\n",
            "\u001b[?25hCollecting MarkupSafe>=2.0 (from jinja2->pyecharts)\n",
            "  Downloading MarkupSafe-2.1.3-cp310-cp310-manylinux_2_17_x86_64.manylinux2014_x86_64.whl (25 kB)\n",
            "Collecting wcwidth (from prettytable->pyecharts)\n",
            "  Downloading wcwidth-0.2.6-py2.py3-none-any.whl (29 kB)\n",
            "Installing collected packages: wcwidth, simplejson, prettytable, MarkupSafe, jinja2, pyecharts\n",
            "\u001b[31mERROR: pip's dependency resolver does not currently take into account all the packages that are installed. This behaviour is the source of the following dependency conflicts.\n",
            "ipython-sql 0.4.1 requires prettytable<1, but you have prettytable 3.7.0 which is incompatible.\u001b[0m\u001b[31m\n",
            "\u001b[0mSuccessfully installed MarkupSafe-2.1.3 jinja2-3.1.2 prettytable-3.7.0 pyecharts-2.0.3 simplejson-3.19.1 wcwidth-0.2.6\n"
          ]
        },
        {
          "output_type": "display_data",
          "data": {
            "application/vnd.colab-display-data+json": {
              "pip_warning": {
                "packages": [
                  "wcwidth"
                ]
              }
            }
          },
          "metadata": {}
        }
      ]
    },
    {
      "cell_type": "code",
      "source": [
        "#安装多个，复制别人的工作环境\n",
        "#!pip install --target=$pkgs_path -r ./tsalab/requirements.txt"
      ],
      "metadata": {
        "id": "z9m2ma5Qrf-p"
      },
      "execution_count": 5,
      "outputs": []
    },
    {
      "cell_type": "code",
      "source": [
        "# 通常的标准安装命令，因为被安装的地方不能持久化，所以要修改安装的路径\n",
        "#!pip install -r requirements.txt\n",
        "# 如果没有这个 requirements.txt， 可以自己根据需要创建，也可以先复制github上的工程，\n",
        "# 再利用工程中的配置文件进行安装。特别注意这个库包列表文件所在的目录\n",
        "# 以 tsalab 为例，当前的路径在 notebooks, 是 tsalab的上一级目录，所以要这样写\n",
        "#!pip install --target=$pkgs_path -r ./tsalab/requirements.txt\n",
        "\n",
        "!pip install --target=$pkgs_path -r requirements.txt"
      ],
      "metadata": {
        "id": "Tlq9duo7qdBo"
      },
      "execution_count": null,
      "outputs": []
    },
    {
      "cell_type": "markdown",
      "source": [],
      "metadata": {
        "id": "Pslqt0RaqBXj"
      }
    },
    {
      "cell_type": "markdown",
      "source": [
        "## 可以利用 git 命令来clone github 上的代码"
      ],
      "metadata": {
        "id": "zOGLpsoVoF29"
      }
    },
    {
      "cell_type": "code",
      "source": [
        "%cd ./notebooks/\n",
        "!pwd"
      ],
      "metadata": {
        "colab": {
          "base_uri": "https://localhost:8080/"
        },
        "id": "-VYrqCizo8Fk",
        "outputId": "8cfad59f-f1a9-49f0-cea1-81eeef325976"
      },
      "execution_count": 6,
      "outputs": [
        {
          "output_type": "stream",
          "name": "stdout",
          "text": [
            "/content/gdrive/My Drive/Colab Notebooks\n",
            "/content/gdrive/My Drive/Colab Notebooks\n"
          ]
        }
      ]
    },
    {
      "cell_type": "code",
      "source": [
        "!git clone https://github.com/bg4xsd/codespaces_python_env.git"
      ],
      "metadata": {
        "colab": {
          "base_uri": "https://localhost:8080/"
        },
        "id": "1kq70TiFl6fT",
        "outputId": "cd0ef02b-0746-474d-ab73-d2aac74ae7a6"
      },
      "execution_count": 8,
      "outputs": [
        {
          "output_type": "stream",
          "name": "stdout",
          "text": [
            "Cloning into 'tsalab'...\n",
            "remote: Enumerating objects: 1968, done.\u001b[K\n",
            "remote: Counting objects: 100% (56/56), done.\u001b[K\n",
            "remote: Compressing objects: 100% (41/41), done.\u001b[K\n",
            "remote: Total 1968 (delta 31), reused 32 (delta 14), pack-reused 1912\u001b[K\n",
            "Receiving objects: 100% (1968/1968), 594.28 MiB | 14.43 MiB/s, done.\n",
            "Resolving deltas: 100% (478/478), done.\n",
            "Updating files: 100% (453/453), done.\n"
          ]
        }
      ]
    },
    {
      "cell_type": "markdown",
      "source": [],
      "metadata": {
        "id": "J6lD3eEumnm8"
      }
    }
  ]
}